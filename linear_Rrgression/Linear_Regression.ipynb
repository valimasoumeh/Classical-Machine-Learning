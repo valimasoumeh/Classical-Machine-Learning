{
 "cells": [
  {
   "cell_type": "code",
   "execution_count": null,
   "id": "4bfc19cf",
   "metadata": {},
   "outputs": [],
   "source": [
    "import numpy as np\n",
    "import pandas as pd\n",
    "import matplotlib.pyplot as plt\n",
    "\n",
    "data = pd.read_csv(\"Concrete_Data.csv\")\n",
    "\n",
    "\n",
    "x = data.iloc[:,0:8]\n",
    "y = data.iloc[:,8:]\n"
   ]
  },
  {
   "cell_type": "code",
   "execution_count": null,
   "id": "e7ddb009",
   "metadata": {},
   "outputs": [],
   "source": [
    "from sklearn.cross_validation import train_test_split\n",
    "x_train,x_test,y_train,y_test = train_test_split(x,y,test_size = 0.2,random_state = 100)"
   ]
  },
  {
   "cell_type": "code",
   "execution_count": null,
   "id": "ee8db21c",
   "metadata": {},
   "outputs": [],
   "source": [
    "from sklearn.linear_model import LinearRegression\n",
    "lm = LinearRegression()\n",
    "lm = lm.fit(x_train,y_train)   #lm.fit(input,output)"
   ]
  },
  {
   "cell_type": "code",
   "execution_count": null,
   "id": "8929c224",
   "metadata": {},
   "outputs": [],
   "source": [
    "lm.intercept_\n",
    "array([-34.273527])\n"
   ]
  },
  {
   "cell_type": "code",
   "execution_count": null,
   "id": "90baa71a",
   "metadata": {},
   "outputs": [],
   "source": [
    "coefficients = pd.concat([pd.DataFrame(x_train.columns),pd.DataFrame(np.transpose(lm.coef_))], axis = 1)\n",
    "# 0            Cement  0.124154\n",
    "# 1             Blast  0.103668\n",
    "# 2           Fly Ash  0.093371\n",
    "# 3             Water -0.134294\n",
    "# 4  Superplasticizer  0.288043\n",
    "# 5                CA  0.020658\n",
    "# 6                FA  0.025630\n",
    "# 7               Age  0.114617"
   ]
  },
  {
   "cell_type": "code",
   "execution_count": null,
   "id": "57de36f2",
   "metadata": {},
   "outputs": [],
   "source": [
    "lm.intercept_\n",
    "# array([-34.273527])"
   ]
  },
  {
   "cell_type": "code",
   "execution_count": null,
   "id": "cc162d84",
   "metadata": {},
   "outputs": [],
   "source": [
    "y_pred = lm.predict(x_test)\n",
    "y_error = y_test - y_pred"
   ]
  },
  {
   "cell_type": "code",
   "execution_count": null,
   "id": "d460fab0",
   "metadata": {},
   "outputs": [],
   "source": [
    "from sklearn.metrics import r2_score\n",
    "r2_score(y_test,y_pred)\n",
    "# 0.62252008774048395"
   ]
  },
  {
   "cell_type": "code",
   "execution_count": null,
   "id": "aaabd984",
   "metadata": {},
   "outputs": [],
   "source": [
    "import statsmodels.api as sma\n",
    "X_train = sma.add_constant(x_train) ## let's add an intercept (beta_0) to our model\n",
    "X_test = sma.add_constant(x_test)\n",
    "import statsmodels.formula.api as sm\n",
    "lm2 = sm.OLS(y_train,X_train).fit()"
   ]
  },
  {
   "cell_type": "code",
   "execution_count": null,
   "id": "af215321",
   "metadata": {},
   "outputs": [],
   "source": [
    "lm2.summary()\n",
    "\"\"\"\n",
    "                            OLS Regression Results                            \n",
    "==============================================================================\n",
    "Dep. Variable:                    CMS   R-squared:                       0.613\n",
    "Model:                            OLS   Adj. R-squared:                  0.609\n",
    "Method:                 Least Squares   F-statistic:                     161.0\n",
    "Date:                Wed, 03 Jan 2018   Prob (F-statistic):          4.37e-162\n",
    "Time:                        21:29:10   Log-Likelihood:                -3090.4\n",
    "No. Observations:                 824   AIC:                             6199.\n",
    "Df Residuals:                     815   BIC:                             6241.\n",
    "Df Model:                           8                                         \n",
    "Covariance Type:            nonrobust                                         \n",
    "====================================================================================\n",
    "                       coef    std err          t      P>|t|      [0.025      0.975]\n",
    "------------------------------------------------------------------------------------\n",
    "const              -34.2735     29.931     -1.145      0.253     -93.025      24.478\n",
    "Cement               0.1242      0.010     13.054      0.000       0.105       0.143\n",
    "Blast                0.1037      0.011      9.229      0.000       0.082       0.126\n",
    "Fly Ash              0.0934      0.014      6.687      0.000       0.066       0.121\n",
    "Water               -0.1343      0.046     -2.947      0.003      -0.224      -0.045\n",
    "Superplasticizer     0.2880      0.102      2.810      0.005       0.087       0.489\n",
    "CA                   0.0207      0.011      1.966      0.050    2.79e-05       0.041\n",
    "FA                   0.0256      0.012      2.131      0.033       0.002       0.049\n",
    "Age                  0.1146      0.006     19.064      0.000       0.103       0.126\n",
    "==============================================================================\n",
    "Omnibus:                        3.757   Durbin-Watson:                   2.033\n",
    "Prob(Omnibus):                  0.153   Jarque-Bera (JB):                3.762\n",
    "Skew:                          -0.165   Prob(JB):                        0.152\n",
    "Kurtosis:                       2.974   Cond. No.                     1.07e+05\n",
    "==============================================================================\n",
    "Warnings:\n",
    "[1] Standard Errors assume that the covariance matrix of the errors is correctly specified.\n",
    "[2] The condition number is large, 1.07e+05. This might indicate that there are\n",
    "strong multicollinearity or other numerical problems.\n",
    "\"\"\""
   ]
  }
 ],
 "metadata": {
  "kernelspec": {
   "display_name": "Python 3",
   "language": "python",
   "name": "python3"
  },
  "language_info": {
   "codemirror_mode": {
    "name": "ipython",
    "version": 3
   },
   "file_extension": ".py",
   "mimetype": "text/x-python",
   "name": "python",
   "nbconvert_exporter": "python",
   "pygments_lexer": "ipython3",
   "version": "3.8.8"
  }
 },
 "nbformat": 4,
 "nbformat_minor": 5
}
