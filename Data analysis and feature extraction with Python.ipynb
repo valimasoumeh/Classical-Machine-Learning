{
 "cells": [
  {
   "cell_type": "markdown",
   "id": "8b856add",
   "metadata": {},
   "source": [
    "# Data analysis and feature extraction with Python\n",
    "https://www.kaggle.com/pmarcelino/data-analysis-and-feature-extraction-with-python"
   ]
  },
  {
   "cell_type": "markdown",
   "id": "e4fc25af",
   "metadata": {},
   "source": [
    "Imports"
   ]
  },
  {
   "cell_type": "code",
   "execution_count": null,
   "id": "689f8466",
   "metadata": {},
   "outputs": [],
   "source": [
    "# Import libraries\n",
    "import pandas as pd\n",
    "import numpy as np\n",
    "import seaborn as sns\n",
    "import matplotlib.pyplot as plt\n",
    "%matplotlib inline\n",
    "\n",
    "# Put this when it's called\n",
    "from sklearn.model_selection import train_test_split\n",
    "from sklearn.model_selection import learning_curve\n",
    "from sklearn.model_selection import validation_curve\n",
    "from sklearn.model_selection import cross_val_score\n",
    "from sklearn.linear_model import LogisticRegression"
   ]
  },
  {
   "cell_type": "markdown",
   "id": "5c850938",
   "metadata": {},
   "source": [
    "Functions"
   ]
  },
  {
   "cell_type": "code",
   "execution_count": 1,
   "id": "abea33af",
   "metadata": {},
   "outputs": [],
   "source": [
    "# Create table for missing data analysis\n",
    "def draw_missing_data_table(df):\n",
    "    total = df.isnull().sum().sort_values(ascending=False)\n",
    "    percent = (df.isnull().sum()/df.isnull().count()).sort_values(ascending=False)\n",
    "    missing_data = pd.concat([total, percent], axis=1, keys=['Total', 'Percent'])\n",
    "    return missing_data"
   ]
  },
  {
   "cell_type": "code",
   "execution_count": null,
   "id": "814c6828",
   "metadata": {},
   "outputs": [],
   "source": [
    "# Plot learning curve\n",
    "def plot_learning_curve(estimator, title, X, y, ylim=None, cv=None,\n",
    "                        n_jobs=1, train_sizes=np.linspace(.1, 1.0, 5)):\n",
    "    plt.figure()\n",
    "    plt.title(title)\n",
    "    if ylim is not None:\n",
    "        plt.ylim(*ylim)\n",
    "    plt.xlabel(\"Training examples\")\n",
    "    plt.ylabel(\"Score\")\n",
    "    train_sizes, train_scores, test_scores = learning_curve(\n",
    "        estimator, X, y, cv=cv, n_jobs=n_jobs, train_sizes=train_sizes)\n",
    "    train_scores_mean = np.mean(train_scores, axis=1)\n",
    "    train_scores_std = np.std(train_scores, axis=1)\n",
    "    test_scores_mean = np.mean(test_scores, axis=1)\n",
    "    test_scores_std = np.std(test_scores, axis=1)\n",
    "    plt.grid()\n",
    "\n",
    "    plt.fill_between(train_sizes, train_scores_mean - train_scores_std,\n",
    "                     train_scores_mean + train_scores_std, alpha=0.1,\n",
    "                     color=\"r\")\n",
    "    plt.fill_between(train_sizes, test_scores_mean - test_scores_std,\n",
    "                     test_scores_mean + test_scores_std, alpha=0.1, color=\"g\")\n",
    "    plt.plot(train_sizes, train_scores_mean, 'o-', color=\"r\",\n",
    "             label=\"Training score\")\n",
    "    plt.plot(train_sizes, test_scores_mean, 'o-', color=\"g\",\n",
    "             label=\"Validation score\")\n",
    "\n",
    "    plt.legend(loc=\"best\")\n",
    "    return plt"
   ]
  },
  {
   "cell_type": "code",
   "execution_count": null,
   "id": "09705b75",
   "metadata": {},
   "outputs": [],
   "source": [
    "# Plot validation curve\n",
    "def plot_validation_curve(estimator, title, X, y, param_name, param_range, ylim=None, cv=None,\n",
    "                        n_jobs=1, train_sizes=np.linspace(.1, 1.0, 5)):\n",
    "    train_scores, test_scores = validation_curve(estimator, X, y, param_name, param_range, cv)\n",
    "    train_mean = np.mean(train_scores, axis=1)\n",
    "    train_std = np.std(train_scores, axis=1)\n",
    "    test_mean = np.mean(test_scores, axis=1)\n",
    "    test_std = np.std(test_scores, axis=1)\n",
    "    plt.plot(param_range, train_mean, color='r', marker='o', markersize=5, label='Training score')\n",
    "    plt.fill_between(param_range, train_mean + train_std, train_mean - train_std, alpha=0.15, color='r')\n",
    "    plt.plot(param_range, test_mean, color='g', linestyle='--', marker='s', markersize=5, label='Validation score')\n",
    "    plt.fill_between(param_range, test_mean + test_std, test_mean - test_std, alpha=0.15, color='g')\n",
    "    plt.grid() \n",
    "    plt.xscale('log')\n",
    "    plt.legend(loc='best') \n",
    "    plt.xlabel('Parameter') \n",
    "    plt.ylabel('Score') \n",
    "    plt.ylim(ylim)"
   ]
  },
  {
   "cell_type": "markdown",
   "id": "7b1ad629",
   "metadata": {},
   "source": [
    "1. The lean data set\n",
    "\n",
    "\n",
    "the lean startup approach relies on a Build-Measure-Learn process. This process emphasizes rapid iteration as a critical ingredient to product development. It goes through the following phases:\n",
    "\n",
    "    Build. Figure out the problem that needs to be solved, generate ideas about how to solve it, and select the best one. Turn your best idea into a Minimum Viable Product (MVP).\n",
    "    Measure. Test your product. Go to your customers and measure their reactions and behaviors against your product.\n",
    "    Learn. Analyse the data you collected when testing the product with your customers. Draw conclusions from the experiment and decide what to do next. In other words, this is a validated learning process that quickly builds, tests, and rebuilds products, according to users' feedback. This reduces your market risks by failing fast and cheap, to get you closer and closer to what the market really needs.\n",
    "\n",
    "This kernel does something similar. We will try to fail fast and cheap by quickly building a working end-to-end pipeline (Build). Then, we will instrument the system to evaluate its performance (Measure). Finally, we will make incremental changes to improve the system's performance (Learn). Note that this practical methodology was adapted from Goodfellow et al. (2016), a book you can access for free here.\n",
    "\n",
    "Initially, we will not invest much time with exploratory data analysis. We will just do the minimum viable effort to implement a reasonable model. This model will be our 'Minimum Viable Model'. Later, we will try to beat this model by enriching our data.\n",
    "\n",
    "Pop quiz: was the Titanic a MVP?"
   ]
  },
  {
   "cell_type": "markdown",
   "id": "8faec3f3",
   "metadata": {},
   "source": [
    "1.1. Doing the pitch\n",
    "\n",
    "\n",
    "Startups use pitches to sell their idea. Accordingly, their pitch should be clear and concise, answering questions such as 'what do you do?', 'what do you want?', and 'who's on your team?'. The pitch is important because investors are more willing to invest when they understand what you're doing.\n",
    "\n",
    "Let's return the first rows of our data set to get a clear and concise picture of what is there and what we can do with it.\n"
   ]
  },
  {
   "cell_type": "code",
   "execution_count": null,
   "id": "f0269788",
   "metadata": {},
   "outputs": [],
   "source": [
    "# Import data\n",
    "df = pd.read_csv('../input/train.csv')\n",
    "df_raw = df.copy()  # Save original data set, just in case."
   ]
  },
  {
   "cell_type": "code",
   "execution_count": null,
   "id": "7d2cb812",
   "metadata": {},
   "outputs": [],
   "source": [
    "# Overview\n",
    "df.head()"
   ]
  },
  {
   "cell_type": "markdown",
   "id": "a9c12847",
   "metadata": {},
   "source": [
    "Definitions and quick thoughts:\n",
    "\n",
    "    PassengerId. Unique identification of the passenger. It shouldn't be necessary for the machine learning model.\n",
    "    Survived. Survival (0 = No, 1 = Yes). Binary variable that will be our target variable.\n",
    "    Pclass. Ticket class (1 = 1st, 2 = 2nd, 3 = 3rd). Ready to go.\n",
    "    Name. Name of the passenger. We need to parse before using it.\n",
    "    Sex. Sex. Categorical variable that should be encoded.\n",
    "    Age. Age in years. Ready to go.\n",
    "    SibSp. # of siblings / spouses aboard the Titanic. Ready to go.\n",
    "    Parch. # of parents / children aboard the Titanic. Ready to go.\n",
    "    Ticket. Ticket number. Big mess. We need to understand its structure first.\n",
    "    Fare. Passenger fare. Ready to go.\n",
    "    Cabin. Cabin number. It needs to be parsed.\n",
    "    Embarked. Port of Embarkation (C = Cherbourg, Q = Queenstown, S = Southampton). Categorical feature that should be encoded.\n",
    "\n",
    "The main conclusion is that we already have a set of features that we can easily use in our machine learning model. Other features, like 'Name', 'Ticket', and 'Fare', require an additional effort before we can integrate them.\n",
    "\n",
    "\n",
    "\n",
    "1.2. Showing the numbers\n",
    "\n",
    "\n",
    "\n",
    "Numbers are crucial to set goals, to make sound business decisions, and to obtain money from investors. With numbers you can project the future of your startup, so that everyone can understand which are the expectations around your idea.\n",
    "\n",
    "In the same way, we will generate the descriptive statistics to get the basic quantitative information about the features of our data set.\n"
   ]
  },
  {
   "cell_type": "code",
   "execution_count": null,
   "id": "d3293f3a",
   "metadata": {},
   "outputs": [],
   "source": [
    "# Descriptive statistics\n",
    "df.describe()"
   ]
  },
  {
   "cell_type": "markdown",
   "id": "a101a7bb",
   "metadata": {},
   "source": [
    "There are three aspects that usually catch my attention when I analyse descriptive statistics:\n",
    "\n",
    "    Min and max values. This can give us an idea about the range of values and is helpful to detect outliers. In our case, all the min and max values seem reasonable and in a reasonable range of values. The only exception could eventually be the max value of 'Fare', but for now we will leave it as it is.\n",
    "    Mean and standard deviation. The mean shows us the central tendency of the distribution, while the standard deviation quantifies its amount of variation. For example, a low standard deviation suggests that data points tend to be close to the mean. Giving a quick look to our values, there's nothing that looks like obviously wrong.\n",
    "    Count. This is important to give us a first perception about the volume of missing data. Here, we can see that some 'Age' data is missing.\n",
    "\n",
    "Since there's nothing shocking about the variables, let's proceed to the next step: missing data.\n",
    "\n",
    "\n",
    "1.3. Filling the gaps\n",
    "\n",
    "\n",
    "\n",
    "One of my favourite definitions of startup belongs to Eric Ries: 'a startup is a human institution designed to create a new product or service under conditions of extreme uncertainty'.\n",
    "\n",
    "The word 'uncertainty' is key in this definition and it's also key in missing data. Missing data occurs when no data value on one or more variables is available. Consequently, it reduces the size of the data set and is a possible source of bias, since some non-random mechanism can be generating the missing data. As a result, missing data introduces uncertainty in our analysis.\n",
    "\n",
    "There are several strategies to deal with missing data. Some of the most common are:\n",
    "\n",
    "    Use only valid data, deleting the cases where data is missing.\n",
    "    Impute data using values from similar cases or using the mean value.\n",
    "    Impute data using model-based methods, in which models are defined to predict the missing values.\n",
    "\n",
    "Until today, I've never found a 'one size fits all' solution. I have some dogmas (e.g. I usually exclude variables with more than 25% of missing data), but what usually guides my analysis is intuition, critical thinking and need (sometimes we need to leave our dogmas at the door, if we want to generate some results).\n",
    "\n",
    "My practical advice to handle missing data is to learn a different set of tools. Play with them according to your needs, test them and you should be fine. A good introduction to the subject can be found in Hair et al. (2013). This book has a practical summary about missing data and provides a framework that you can apply in almost all situations. Also, I wrote a technical paper comparing different imputation techniques, which I can share with you if you want.\n",
    "\n",
    "Now that we can see the tip of the iceberg, let's dive into the subject.\n",
    "    "
   ]
  },
  {
   "cell_type": "code",
   "execution_count": null,
   "id": "c4dedf88",
   "metadata": {},
   "outputs": [],
   "source": [
    "# Analyse missing data\n",
    "draw_missing_data_table(df)"
   ]
  },
  {
   "cell_type": "markdown",
   "id": "fac30cf4",
   "metadata": {},
   "source": [
    "First thoughts:\n",
    "\n",
    "    'Cabin' has too many missing values (>25%). Dogma! We need to delete this variable right away.\n",
    "    'Age' can be imputed. For now, I'll associate a value that allows me to know that I'm imputing data. Later, I'll revise this strategy.\n",
    "    Due to the low percentage of missing values, I'll delete the observations where we don't know 'Embarked'."
   ]
  },
  {
   "cell_type": "code",
   "execution_count": 2,
   "id": "cdc4a7b6",
   "metadata": {},
   "outputs": [
    {
     "ename": "NameError",
     "evalue": "name 'df' is not defined",
     "output_type": "error",
     "traceback": [
      "\u001b[1;31m---------------------------------------------------------------------------\u001b[0m",
      "\u001b[1;31mNameError\u001b[0m                                 Traceback (most recent call last)",
      "\u001b[1;32m<ipython-input-2-4bd53a026665>\u001b[0m in \u001b[0;36m<module>\u001b[1;34m\u001b[0m\n\u001b[0;32m      1\u001b[0m \u001b[1;31m# Drop Cabin\u001b[0m\u001b[1;33m\u001b[0m\u001b[1;33m\u001b[0m\u001b[1;33m\u001b[0m\u001b[0m\n\u001b[1;32m----> 2\u001b[1;33m \u001b[0mdf\u001b[0m\u001b[1;33m.\u001b[0m\u001b[0mdrop\u001b[0m\u001b[1;33m(\u001b[0m\u001b[1;34m'Cabin'\u001b[0m\u001b[1;33m,\u001b[0m \u001b[0maxis\u001b[0m\u001b[1;33m=\u001b[0m\u001b[1;36m1\u001b[0m\u001b[1;33m,\u001b[0m \u001b[0minplace\u001b[0m\u001b[1;33m=\u001b[0m\u001b[1;32mTrue\u001b[0m\u001b[1;33m)\u001b[0m\u001b[1;33m\u001b[0m\u001b[1;33m\u001b[0m\u001b[0m\n\u001b[0m\u001b[0;32m      3\u001b[0m \u001b[0mdf\u001b[0m\u001b[1;33m.\u001b[0m\u001b[0mhead\u001b[0m\u001b[1;33m(\u001b[0m\u001b[1;33m)\u001b[0m\u001b[1;33m\u001b[0m\u001b[1;33m\u001b[0m\u001b[0m\n",
      "\u001b[1;31mNameError\u001b[0m: name 'df' is not defined"
     ]
    }
   ],
   "source": [
    "# Drop Cabin\n",
    "df.drop('Cabin', axis=1, inplace=True)\n",
    "df.head()"
   ]
  },
  {
   "cell_type": "code",
   "execution_count": null,
   "id": "8e8646a7",
   "metadata": {},
   "outputs": [],
   "source": [
    "# Fill missing values in Age with a specific value\n",
    "value = 1000\n",
    "df['Age'].fillna(1000, inplace=True)\n",
    "df['Age'].max()"
   ]
  },
  {
   "cell_type": "code",
   "execution_count": null,
   "id": "1677e7d0",
   "metadata": {},
   "outputs": [],
   "source": [
    "# Delete observations without Embarked\n",
    "df.drop(df[pd.isnull(df['Embarked'])].index, inplace=True)  # Get index of points where Embarked is null\n",
    "df[pd.isnull(df['Embarked'])]"
   ]
  },
  {
   "cell_type": "markdown",
   "id": "9f20e8ec",
   "metadata": {},
   "source": [
    "1.4. Minimum viable model\n",
    "\n",
    "\n",
    "The 'Minimum Viable Product' (MVP) is a key concept for any lean startup. Once the problem to solve is figured out, the focus of the startup should be in the development of a solution, the MVP, as fast as they can. Thanks to the MVP, it is possible to begin the learning process and improve the solution towards users needs.\n",
    "\n",
    "Goodfellow et al. (2016) proposes an analogous approach for the application of machine learning models. As the authors point out, the successful application of machine learning techniques goes beyond the knowledge of algorithms and their principles. To successfully apply machine learning techniques, we need to start with a simple model that we can master and understand. Only then we should move to more complex algorithms.\n",
    "\n",
    "The authors propose a practical four-steps methodology:\n",
    "\n",
    "    Select a performance metric and a target value for this metric. This metric will guide your work and allow you to know how well you're performing. In our case, our performance metric will be 'accuracy' because it is the one defined by Kaggle.\n",
    "    Quickly set up a working end-to-end pipeline. This should allow you to estimate the selected performance metric.\n",
    "    Monitor the system to understand its behaviour, in particular to understand whether its poor performance is related to underfitting, overfitting or defects.\n",
    "    Improve the system by iteration. Here we can apply feature engineering, tune hyperparameters or even change the algorithm, according to the outputs of our monitoring system.\n",
    "\n",
    "We will follow this methodology. Accordingly, our aim will be to get an initial model that we can use as a first baseline approach. This model will be our 'Minimum Viable Model' (MVM). Note that right now it doesn't matter much how well the model performs. We just need a starting point. All in all, we're entrepreneurs. Worst case scenario, we name this model as 'beta version' :P\n",
    "\n",
    "Ok, let's prepare the data for the MVM launching, fit a logistic regression to it, and analyse the performance of the model through learning and validation curves.\n",
    "\n",
    "\n",
    "1.4.1. Preparing the data\n"
   ]
  },
  {
   "cell_type": "code",
   "execution_count": 3,
   "id": "c828aa6e",
   "metadata": {},
   "outputs": [
    {
     "ename": "NameError",
     "evalue": "name 'df' is not defined",
     "output_type": "error",
     "traceback": [
      "\u001b[1;31m---------------------------------------------------------------------------\u001b[0m",
      "\u001b[1;31mNameError\u001b[0m                                 Traceback (most recent call last)",
      "\u001b[1;32m<ipython-input-3-02f0bccb3422>\u001b[0m in \u001b[0;36m<module>\u001b[1;34m\u001b[0m\n\u001b[0;32m      1\u001b[0m \u001b[1;31m# Data types\u001b[0m\u001b[1;33m\u001b[0m\u001b[1;33m\u001b[0m\u001b[1;33m\u001b[0m\u001b[0m\n\u001b[1;32m----> 2\u001b[1;33m \u001b[0mdf\u001b[0m\u001b[1;33m.\u001b[0m\u001b[0mdtypes\u001b[0m\u001b[1;33m\u001b[0m\u001b[1;33m\u001b[0m\u001b[0m\n\u001b[0m",
      "\u001b[1;31mNameError\u001b[0m: name 'df' is not defined"
     ]
    }
   ],
   "source": [
    "# Data types\n",
    "df.dtypes"
   ]
  },
  {
   "cell_type": "markdown",
   "id": "9ec10a78",
   "metadata": {},
   "source": [
    "   We don't need 'PassengerId' for prediction purposes, so we will exclude it.\n",
    "    'Sex', 'Embarked', and 'Pclass' should be categorical. I'll not consider 'Survived' as categorical because it's the output variable.\n",
    "    We need to parse 'Name' and 'Ticket'. For now, I'll ignore these features.\n",
    "    'SibSp' could be grouped with 'Parch' to create a 'Family' feature. For now, I'll just identify if the passenger is travelling alone or with family.\n"
   ]
  },
  {
   "cell_type": "code",
   "execution_count": null,
   "id": "2d7af1e5",
   "metadata": {},
   "outputs": [],
   "source": [
    "# Drop PassengerId\n",
    "df.drop('PassengerId', axis=1, inplace=True)\n",
    "df.head()"
   ]
  },
  {
   "cell_type": "code",
   "execution_count": null,
   "id": "30af402e",
   "metadata": {},
   "outputs": [],
   "source": [
    "# Define categorical variables\n",
    "df['Sex'] = pd.Categorical(df['Sex'])\n",
    "df['Embarked'] = pd.Categorical(df['Embarked'])"
   ]
  },
  {
   "cell_type": "code",
   "execution_count": null,
   "id": "46f278ee",
   "metadata": {},
   "outputs": [],
   "source": [
    "# Create Family feature\n",
    "df['FamilySize'] = df['SibSp'] + df['Parch']\n",
    "df.head()"
   ]
  },
  {
   "cell_type": "code",
   "execution_count": null,
   "id": "78e8b8ba",
   "metadata": {},
   "outputs": [],
   "source": [
    "# Drop SibSp and Parch\n",
    "df.drop('SibSp',axis=1,inplace=True)\n",
    "df.drop('Parch',axis=1,inplace=True)\n",
    "df.head()"
   ]
  },
  {
   "cell_type": "code",
   "execution_count": null,
   "id": "d7b88b1d",
   "metadata": {},
   "outputs": [],
   "source": [
    "# Drop Name and Ticket\n",
    "df.drop('Name', axis=1, inplace=True)\n",
    "df.drop('Ticket', axis=1, inplace=True)\n",
    "df.head()"
   ]
  },
  {
   "cell_type": "markdown",
   "id": "cdc0b9b1",
   "metadata": {},
   "source": [
    "1.4.2. Launching the model\n",
    "\n",
    "\n",
    "Ready... Set... Go!\n"
   ]
  },
  {
   "cell_type": "code",
   "execution_count": null,
   "id": "a7b5d083",
   "metadata": {},
   "outputs": [],
   "source": [
    "# Transform categorical variables into dummy variables\n",
    "df = pd.get_dummies(df, drop_first=True)  # To avoid dummy trap\n",
    "df.head()"
   ]
  },
  {
   "cell_type": "markdown",
   "id": "4df67f6f",
   "metadata": {},
   "source": [
    "Extra: What is the 'dummy variable trap'?"
   ]
  },
  {
   "cell_type": "code",
   "execution_count": null,
   "id": "acb3c15c",
   "metadata": {},
   "outputs": [],
   "source": [
    "# Create data set to train data imputation methods\n",
    "X = df[df.loc[:, df.columns != 'Survived'].columns]\n",
    "y = df['Survived']\n",
    "X_train, X_test, y_train, y_test = train_test_split(X, y, test_size=.2, random_state=1)"
   ]
  },
  {
   "cell_type": "code",
   "execution_count": null,
   "id": "4c35afc4",
   "metadata": {},
   "outputs": [],
   "source": [
    "# Debug\n",
    "print('Inputs: \\n', X_train.head())\n",
    "print('Outputs: \\n', y_train.head())"
   ]
  },
  {
   "cell_type": "code",
   "execution_count": null,
   "id": "461f8c2b",
   "metadata": {},
   "outputs": [],
   "source": [
    "# Fit logistic regression\n",
    "logreg = LogisticRegression()\n",
    "logreg.fit(X_train, y_train)"
   ]
  },
  {
   "cell_type": "code",
   "execution_count": null,
   "id": "da17a71f",
   "metadata": {},
   "outputs": [],
   "source": [
    "# Model performance\n",
    "scores = cross_val_score(logreg, X_train, y_train, cv=10)\n",
    "print('CV accuracy: %.3f +/- %.3f' % (np.mean(scores), np.std(scores)))"
   ]
  },
  {
   "cell_type": "markdown",
   "id": "49ed683d",
   "metadata": {},
   "source": [
    "1.4.3. Assessing model performance"
   ]
  },
  {
   "cell_type": "code",
   "execution_count": null,
   "id": "b4c45af0",
   "metadata": {},
   "outputs": [],
   "source": [
    "# Plot learning curves\n",
    "title = \"Learning Curves (Logistic Regression)\"\n",
    "cv = 10\n",
    "plot_learning_curve(logreg, title, X_train, y_train, ylim=(0.7, 1.01), cv=cv, n_jobs=1);"
   ]
  },
  {
   "cell_type": "markdown",
   "id": "c0030f71",
   "metadata": {},
   "source": [
    "Learning curves in a nutshell:\n",
    "\n",
    "    Learning curves allow us to diagnose if the is overfitting or underfitting.\n",
    "    When the model overfits, it means that it performs well on the training set, but not not on the validation set. Accordingly, the model is not able to generalize to unseen data. If the model is overfitting, the learning curve will present a gap between the training and validation scores. Two common solutions for overfitting are reducing the complexity of the model and/or collect more data.\n",
    "    On the other hand, underfitting means that the model is not able to perform well in either training or validations sets. In those cases, the learning curves will converge to a low score value. When the model underfits, gathering more data is not helpful because the model is already not being able to learn the training data. Therefore, the best approaches for these cases are to improve the model (e.g., tuning the hyperparameters) or to improve the quality of the data (e.g., collecting a different set of features).\n",
    "\n",
    "Discussion of our results:\n",
    "\n",
    "    The model doesn't overfit. As we can see, the curves converge and no gap between the training and the validation score exists in the last points of the curve.\n",
    "    The model underfits. Our final score is about 0.786. Although our model does better predictions than a flip-a-coin strategy, it is still far from being an 'intelligent' model. For now, it's just an 'artificial' model."
   ]
  },
  {
   "cell_type": "code",
   "execution_count": null,
   "id": "c93e2260",
   "metadata": {},
   "outputs": [],
   "source": [
    "# Plot validation curve\n",
    "title = 'Validation Curve (Logistic Regression)'\n",
    "param_name = 'C'\n",
    "param_range = [0.001, 0.01, 0.1, 1.0, 10.0, 100.0] \n",
    "cv = 10\n",
    "plot_validation_curve(estimator=logreg, title=title, X=X_train, y=y_train, param_name=param_name,\n",
    "                      ylim=(0.5, 1.01), param_range=param_range);"
   ]
  },
  {
   "cell_type": "markdown",
   "id": "07305f93",
   "metadata": {},
   "source": [
    "Validation curves in a nutshell:\n",
    "\n",
    "    Validation curves are a tool that we can use to improve the performance of our model. It counts as a way of tuning our hyperparameters.\n",
    "    They are different from the learning curves. Here, the goal is to see how the model parameter impacts the training and validation scores. This allow us to choose a different value for the parameter, to improve the model.\n",
    "    Once again, if there is a gap between the training and the validation score, the model is probably overfitting. In contrast, if there is no gap but the score value is low, we can say that the model underfits.\n",
    "\n",
    "Discussion of our results:\n",
    "\n",
    "    The figure shows that there is no huge difference in model's performance as far as we choose a C value of 10−1\n",
    "\n",
    "or higher. Note that in a logistic regression, C is the only model parameter that we can change (see scikit-learn documentation). "
   ]
  },
  {
   "cell_type": "markdown",
   "id": "b9e354dd",
   "metadata": {},
   "source": [
    "2. The chubby data set\n",
    "\n",
    "\n",
    "At this point, our model:\n",
    "\n",
    "    Can achieve a 0.786 +/- 0.026 accuracy.\n",
    "    Is based on a logistic regression.\n",
    "    Uses 'Pclass', 'Age', 'Fare', 'FamilySize', 'Sex', and 'Embarked as inputs; and 'Survived' as output.\n",
    "\n",
    "Moreover, concerning the practical methodology that we mentioned before, we can say that:\n",
    "\n",
    "    The choice of the performance metric is a closed topic because we're following Kaggle's specifications.\n",
    "    Our current model can work as a baseline model and resulted from a working end-to-end pipeline.\n",
    "    The learning and validation curves allow us to monitor system's performance.\n",
    "\n",
    "As a consequence, only the fourth and last step of the practical methodology is missing: to improve the model by iteration. This can be done by:\n",
    "\n",
    "    Improving the way how we handled 'Age' missing data. In our lean approach we decided to replace missing data by a unique value, but now we can go deeper and search for a better imputation strategy.\n",
    "    Exploring data to understand which features can have impact in the model and how they can be manipulated to boost that impact.\n",
    "    Building new features that can increase the predictive power of our model.\n",
    "\n",
    "This will lead us to a heavy data analysis process, which aims to improve model's performance just by the data quality side. In other words, we will not change our learning algorithm neither we will try to improve its parameters. We will only try to improve the performance of our model by enriching our data.\n",
    "\n",
    "That said, let's say goodbye to the lean approach and welcome the chubby approach!\n"
   ]
  },
  {
   "cell_type": "code",
   "execution_count": null,
   "id": "1d1cdf2b",
   "metadata": {},
   "outputs": [],
   "source": [
    "# Restart data set\n",
    "df = df_raw.copy()\n",
    "df.head()"
   ]
  },
  {
   "cell_type": "code",
   "execution_count": null,
   "id": "06430333",
   "metadata": {},
   "outputs": [],
   "source": [
    "# Family size feature\n",
    "df['FamilySize'] = df['SibSp'] + df['Parch']\n",
    "df.head()"
   ]
  },
  {
   "cell_type": "code",
   "execution_count": null,
   "id": "921aa67b",
   "metadata": {},
   "outputs": [],
   "source": [
    "# Drop SibSp and Parch\n",
    "df.drop('SibSp',axis=1,inplace=True)\n",
    "df.drop('Parch',axis=1,inplace=True)\n",
    "df.head()"
   ]
  },
  {
   "cell_type": "code",
   "execution_count": null,
   "id": "a9049970",
   "metadata": {},
   "outputs": [],
   "source": [
    "# Drop irrelevant features\n",
    "df.drop(['Name','Ticket','Cabin'], axis=1, inplace=True)\n",
    "df.head()"
   ]
  },
  {
   "cell_type": "markdown",
   "id": "5e92ac1c",
   "metadata": {},
   "source": [
    "2.1. Imputation of 'Age' missing data\n",
    "\n",
    "\n",
    "Our initial approach to estimate 'Age' missing values was to fill with a placeholder value (1000). This allowed us to quickly get a complete data set, in which was easy to identify imputed values. Since our goal was to have a working end-to-end pipeline as fast as possible, this approach was ok. However, it has several limitations. For example, we are using unrealistic replacement values, which are out of range and distort data distribution. Accordingly, now that we are improving the model, it makes sense to develop a different imputation method.\n",
    "\n",
    "One way to improve our imputation method is to estimate the missing values based on known relationships. In our case, we can do this by using the information in the variable 'Name'. Looking to 'Name' values, we can see person's name and title. Person's title is a relevant information to estimate ages. To give an example, we know that a person with the title 'Master' is someone under 13 years old, since 'a boy can be addressed as master only until age 12'. Therefore, employing the information in 'Name' we can improve our imputation method.\n",
    "\n",
    "The steps to implement this new imputation method are:\n",
    "\n",
    "    Extract titles from 'Name'.\n",
    "    Plot a figure with both features and confirm that there is a connection between titles and age.\n",
    "    For each title, get people's average age and use it to fill missing values.\n",
    "\n",
    "Let's see how this work, before you start with sinking feelings.\n"
   ]
  },
  {
   "cell_type": "code",
   "execution_count": null,
   "id": "c7084ede",
   "metadata": {},
   "outputs": [],
   "source": [
    "# Inspect names\n",
    "df_raw['Name'].unique()[:10]"
   ]
  },
  {
   "cell_type": "markdown",
   "id": "94083a91",
   "metadata": {},
   "source": [
    "The rule seems to be: 'last name' + ',' + 'title' + 'other names'"
   ]
  },
  {
   "cell_type": "code",
   "execution_count": null,
   "id": "b21031fd",
   "metadata": {},
   "outputs": [],
   "source": [
    "# Extract titles from name\n",
    "df['Title']=0\n",
    "for i in df:\n",
    "    df['Title']=df_raw['Name'].str.extract('([A-Za-z]+)\\.', expand=False)  # Use REGEX to define a search pattern\n",
    "df.head()"
   ]
  },
  {
   "cell_type": "code",
   "execution_count": null,
   "id": "4f4e6faf",
   "metadata": {},
   "outputs": [],
   "source": [
    "# Unique titles\n",
    "df['Title'].unique()"
   ]
  },
  {
   "cell_type": "code",
   "execution_count": null,
   "id": "087948ba",
   "metadata": {},
   "outputs": [],
   "source": [
    "# Plot bar plot (titles, age and sex)\n",
    "plt.figure(figsize=(15,5))\n",
    "sns.barplot(x=df['Title'], y=df_raw['Age']);"
   ]
  },
  {
   "cell_type": "markdown",
   "id": "cba1929c",
   "metadata": {},
   "source": [
    "    Bar plot gives us an estimate of central tendency for a numeric variable (height of each rectangle) and an indication of the uncertainty around that estimate (error bars in black).\n",
    "    Apart from Rev and Dr, which have a larger error bar, the mean value seems to accurately represent the data of all the other features. This validates our approach.\n",
    "    Here you can find a short and sweet intro to error bars interpretation."
   ]
  },
  {
   "cell_type": "code",
   "execution_count": null,
   "id": "762cf5de",
   "metadata": {},
   "outputs": [],
   "source": [
    "# Means per title\n",
    "df_raw['Title'] = df['Title']  # To simplify data handling\n",
    "means = df_raw.groupby('Title')['Age'].mean()\n",
    "means.head()"
   ]
  },
  {
   "cell_type": "code",
   "execution_count": null,
   "id": "dab40ad8",
   "metadata": {},
   "outputs": [],
   "source": [
    "# Transform means into a dictionary for future mapping\n",
    "map_means = means.to_dict()\n",
    "map_means"
   ]
  },
  {
   "cell_type": "code",
   "execution_count": null,
   "id": "f04349cb",
   "metadata": {},
   "outputs": [],
   "source": [
    "# Impute ages based on titles\n",
    "idx_nan_age = df.loc[np.isnan(df['Age'])].index\n",
    "df.loc[idx_nan_age,'Age'].loc[idx_nan_age] = df['Title'].loc[idx_nan_age].map(map_means)\n",
    "df.head()"
   ]
  },
  {
   "cell_type": "code",
   "execution_count": null,
   "id": "59605d1b",
   "metadata": {},
   "outputs": [],
   "source": [
    "# Identify imputed data\n",
    "df['Imputed'] = 0\n",
    "df.at[idx_nan_age.values, 'Imputed'] = 1\n",
    "df.head()"
   ]
  },
  {
   "cell_type": "markdown",
   "id": "6f9b8d23",
   "metadata": {},
   "source": [
    "2.2. Exploratory data analysis\n",
    "\n",
    "\n",
    "Exploratory data analysis is often mentioned as one of the most important steps in the data analysis process. However, it's fairly easy to fall into a 'data diving' trap (especially if you're solving problems about sunken ships) and get lost into the process. When that happens, your analysis can end up like this.\n",
    "\n",
    "We can avoid this by following a hypothesis driven approach. The hypothesis driven approach consists in establishing hypothesis about the variables behaviour and their relationships, early in the process, to then focus on using data to prove (or disprove) those hypothesis. This makes our analysis very objective because we will be collecting just enough data to test specific hypothesis. As a result, we:\n",
    "\n",
    "    Increase speed. Since we will limit our analysis to some hypothesis and move forward.\n",
    "    Reduce effort. The amount of data and the number of tests will be only what is needed to verify your hypothesis.\n",
    "    Reduce risk. If you're right you succeed fast, if you're wrong you fail fast.\n",
    "\n",
    "Here you can find one of my favourite PowerPoint presentations about the benefits and procedures of a hypothesis driven approach in problem solving. Please note that, particularly when you really need to learn about the data set, it makes sense to put the diving cylinder and go dive into the depths of data analysis. However, if at the outset you can generate an educated guess of what the answer of your problem is, I think that you should test your hypothesis and learn from it as fast as you can.\n",
    "\n",
    "Ok, now that I convinced you that the hypothesis driven approach is the last coke in the desert, let me show you how to apply it. Cases like the one we have are easy targets for the hypothesis driven approach because we don't have many variables, so we can more or less guess their impact. Accordingly, we will start by listing each of the variables and generate hypothesis about their relationship with the target variable ('Survived'). Then, we will test those hypothesis through a set of exploratory data analysis tools. As a result, we'll end up with a comprehensive view about the variables that should belong to our prediction model.\n",
    "\n",
    "Let's get started:\n",
    "\n",
    "    PassengerId. This is just an unique identification of each passenger. It's not expected to be relevant to our analysis.\n",
    "    Survived. Target variable. To sink or not to sink is the question of this exercise.\n",
    "    Pclass. This is the ticket class. According to Karl Marx, this should affect our target variable. First class should have a higher survival rate.\n",
    "    Name. Names are a form of social tagging, especially when accompanied by a title. As a consequence, it can lead to different forms of treatment. Let's keep an eye on this.\n",
    "    Sex. Always important.\n",
    "    Age. It should make a difference. For example, children are usually evacuated first in a disaster, so that we can think about a solution in silence... Joking, the true reason why 'Age' matters is this one.\n",
    "    SibSp. Number of siblings/spouses aboard the Titanic. I'd say that it's easier to survive if you're with your family than if you're travelling alone. Teamwork!\n",
    "    Parch. Number of parents/children aboard the Titanic. It should play with 'SibSp'.\n",
    "    Ticket. This is the ticket number. Unless it has some information about places, it shouldn't be important for prediction purposes.\n",
    "    Fare. Same logic as 'Pclass'.\n",
    "    Cabin. The cabin number can indicate where people were during the disaster. It wouldn't be surprising if it had some influence in survival chances, but this variable was excluded due to the high percentage of missing values.\n",
    "    Embarked. When the sun rises, it rises for everyone. It's not expectable that people coming from Cherbourg are more unlucky than people coming from Southampton. Unless there is some second order effect, like refusing to run away to keep your honor as a man, I would say that this variable is not important.\n",
    "\n",
    "Now, step by step, let's perform our analysis.\n",
    "\n",
    "2.2.1. Pclass\n",
    "\n",
    "\n",
    "Our hypothesis is that the higher the class, the higher the chances of survival. This means that a person travelling in the first class has a higher chance of survival than a person traveling on the second or third class.\n",
    "\n",
    "To visualize if there is a relationship between 'Pclass' and 'Survival', let's do a bar plot.\n"
   ]
  },
  {
   "cell_type": "code",
   "execution_count": null,
   "id": "4483be39",
   "metadata": {},
   "outputs": [],
   "source": [
    "# Plot\n",
    "sns.barplot(df['Pclass'],df['Survived']);"
   ]
  },
  {
   "cell_type": "markdown",
   "id": "025ea5ca",
   "metadata": {},
   "source": [
    "As we can see, about 60% of the people travelling in the first class survived. In contrast, only approximately 25% of the people travelling in the third class survived. Accordingly, this plot suggests that the class in which people travel affects the chances of survival.\n",
    "\n",
    "2.2.2. Name/Title\n",
    "\n",
    "Our assumption is that people's title influences how they are treated. In our case, we have several titles, but only some of them are shared by a significant number of people. Accordingly, it would be interesting if we could group some of the titles and simplify our analysis.\n",
    "\n",
    "Let's analyse the title and see if we can can find a sensible way to group them. Then, we test our new groups and, if it works in an acceptable way, we keep it. For now, optimization will not be a goal. The focus is on getting something that can improve our current situation.\n"
   ]
  },
  {
   "cell_type": "code",
   "execution_count": null,
   "id": "35d9cf1c",
   "metadata": {},
   "outputs": [],
   "source": [
    "# Count how many people have each of the titles\n",
    "df.groupby(['Title'])['PassengerId'].count()"
   ]
  },
  {
   "cell_type": "markdown",
   "id": "ce089342",
   "metadata": {},
   "source": [
    "From the results above we can see that:\n",
    "\n",
    "    Titles like 'Master', 'Miss', 'Mr', and 'Mrs', appear several times. Accordingly, we will not group them.\n",
    "    Regarding Mme and Mlle, we can see here that they correspond to the categories Mrs and Miss, respectively. As a consequence, we will assign them to those titles.\n",
    "    Finally, we will group all the other titles in a new title named 'Other'. Then, we will define 'Title' as a categorical feature and plot it to see how it looks like. If it looks ok, we will proceed with this new categorization."
   ]
  },
  {
   "cell_type": "code",
   "execution_count": null,
   "id": "5ea42a4c",
   "metadata": {},
   "outputs": [],
   "source": [
    "# Map of aggregated titles:\n",
    "titles_dict = {'Capt': 'Other',\n",
    "               'Major': 'Other',\n",
    "               'Jonkheer': 'Other',\n",
    "               'Don': 'Other',\n",
    "               'Sir': 'Other',\n",
    "               'Dr': 'Other',\n",
    "               'Rev': 'Other',\n",
    "               'Countess': 'Other',\n",
    "               'Dona': 'Other',\n",
    "               'Mme': 'Mrs',\n",
    "               'Mlle': 'Miss',\n",
    "               'Ms': 'Miss',\n",
    "               'Mr': 'Mr',\n",
    "               'Mrs': 'Mrs',\n",
    "               'Miss': 'Miss',\n",
    "               'Master': 'Master',\n",
    "               'Lady': 'Other'}"
   ]
  },
  {
   "cell_type": "code",
   "execution_count": null,
   "id": "78459323",
   "metadata": {},
   "outputs": [],
   "source": [
    "# Group titles\n",
    "df['Title'] = df['Title'].map(titles_dict)\n",
    "df['Title'].head()"
   ]
  },
  {
   "cell_type": "code",
   "execution_count": null,
   "id": "ff36e219",
   "metadata": {},
   "outputs": [],
   "source": [
    "# Transform into categorical\n",
    "df['Title'] = pd.Categorical(df['Title'])\n",
    "df.dtypes"
   ]
  },
  {
   "cell_type": "code",
   "execution_count": null,
   "id": "50eaa8d8",
   "metadata": {},
   "outputs": [],
   "source": [
    "# Plot\n",
    "sns.barplot(x='Title', y='Survived', data=df);"
   ]
  },
  {
   "cell_type": "markdown",
   "id": "4c984cb2",
   "metadata": {},
   "source": [
    "As we already know, the bar plot shows us an estimate of the mean value (height of each rectangle) and an indication of the uncertainty around that central tendency (error bars).\n",
    "\n",
    "Our results suggest that:\n",
    "\n",
    "    People with the title 'Mr' survived less than people with any other title.\n",
    "    Titles with a survival rate higher than 50% are those that correspond to female (Miss or Mrs) or children (Master) titles.\n",
    "    Our new category, 'Other', should be more discretized. As we can see by the error bar (black line), there is a significant uncertainty around the mean value. Probably, one of the problems is that we are mixing male and female titles in the 'Other' category. We should proceed with a more detailed analysis to sort this out. Also, the category 'Master' seems to have a similar problem. For now, we will not make any changes, but we will keep these two situations in our mind for future improvement of our data set.\n",
    "\n",
    "2.2.3. Sex\n",
    "\n",
    "Sex is one of the most discussed topics in Human history. There are several perspective about the topic, but I must confess that Freud's perspectives had a significant impact on me because they have shown me the subject in a new perspective. What's new about Freud is that he associated many 'normal' behaviours to sexual drives, almost to the point of making us question everything we do. In the end, Freud realized that not everything was about sex. As he said, 'sometimes a cigar is just a cigar' (Freud used to smoke cigars).\n",
    "\n",
    "Preambles aside, what we really need to know is if sometimes a cigar is just a cigar or not. We already have some clues that, in Titanic, women had a higher survival rate. But, nothing better than a plot to see what's going on.\n"
   ]
  },
  {
   "cell_type": "code",
   "execution_count": null,
   "id": "a7d80430",
   "metadata": {},
   "outputs": [],
   "source": [
    "# Transform into categorical\n",
    "df['Sex'] = pd.Categorical(df['Sex'])"
   ]
  },
  {
   "cell_type": "code",
   "execution_count": null,
   "id": "a06185a8",
   "metadata": {},
   "outputs": [],
   "source": [
    "# Plot\n",
    "sns.barplot(df['Sex'],df['Survived']);"
   ]
  },
  {
   "cell_type": "markdown",
   "id": "c5025066",
   "metadata": {},
   "source": [
    "Our hypothesis seems to be right. The world belongs to women, and so does the Titanic.\n",
    "\n",
    "2.2.4. Age\n",
    "\n",
    "'Age' is the next variable in the list. Our hypothesis is that children are more prone to survive, while people in its adult life may have a lower rate of survival. Personally, I don't have any special intuition about elders, since they are the most vulnerable. This can play for both sides: either people help elders because they are more vulnerable, or they they are not able to cope with the challenges posed by the wreck of a ship.\n",
    "\n",
    "Let's call the usual suspect (bar plot) to help us understanding the situation.\n"
   ]
  },
  {
   "cell_type": "code",
   "execution_count": null,
   "id": "3a382ecc",
   "metadata": {},
   "outputs": [],
   "source": [
    "# Plot\n",
    "plt.figure(figsize=(25,10))\n",
    "sns.barplot(df['Age'],df['Survived'], ci=None)\n",
    "plt.xticks(rotation=90);"
   ]
  },
  {
   "cell_type": "markdown",
   "id": "0cb8c894",
   "metadata": {},
   "source": [
    "With a little bit of creativity, we can say that the plot has three regions:\n",
    "\n",
    "    One region that goes between age 0 and 15;\n",
    "    One between age 15 and 48;\n",
    "    A last one between age 48 and 80.\n",
    "\n",
    "I know that this division is arguable, especially in what concerns the last two categories. However, the point is that this categories split fits into what we know about the way our society is organized: childrens, adults and elders. For now, let's proceed this way.\n"
   ]
  },
  {
   "cell_type": "code",
   "execution_count": null,
   "id": "faa68e95",
   "metadata": {},
   "outputs": [],
   "source": [
    "# Plot\n",
    "'''\n",
    "Probably, there is an easier way to do this plot. I had a problem using\n",
    "plt.axvspan because the xmin and xmax values weren't\n",
    "being plotted correctly. For example, I would define xmax = 12 and only \n",
    "the area between 0 and 7 would be filled. This was happening because my \n",
    "X-axis don't follow a regular (0, 1, ..., n) sequence. After some trial\n",
    "and error, I noticed that xmin and xmax refer to the number of elements in\n",
    "the X-axis coordinate that should be filled. Accordingly, I defined two \n",
    "variables, x_limit_1 and x_limit_2, that count the number of elements that\n",
    "should be filled in each interval. Sounds confusing? To me too.\n",
    "'''\n",
    "limit_1 = 12\n",
    "limit_2 = 50\n",
    "\n",
    "x_limit_1 = np.size(df[df['Age'] < limit_1]['Age'].unique())\n",
    "x_limit_2 = np.size(df[df['Age'] < limit_2]['Age'].unique())\n",
    "\n",
    "plt.figure(figsize=(25,10))\n",
    "sns.barplot(df['Age'],df['Survived'], ci=None)\n",
    "\n",
    "plt.axvspan(-1, x_limit_1, alpha=0.25, color='green')\n",
    "plt.axvspan(x_limit_1, x_limit_2, alpha=0.25, color='red')\n",
    "plt.axvspan(x_limit_2, 100, alpha=0.25, color='yellow')\n",
    "\n",
    "plt.xticks(rotation=90);"
   ]
  },
  {
   "cell_type": "code",
   "execution_count": null,
   "id": "a17314e0",
   "metadata": {},
   "outputs": [],
   "source": [
    "# Bin data\n",
    "df['Age'] = pd.cut(df['Age'], bins=[0, 12, 50, 200], labels=['Child','Adult','Elder'])\n",
    "df['Age'].head()"
   ]
  },
  {
   "cell_type": "code",
   "execution_count": null,
   "id": "9c6d4e92",
   "metadata": {},
   "outputs": [],
   "source": [
    "# Plot\n",
    "sns.barplot(df['Age'], df['Survived']);"
   ]
  },
  {
   "cell_type": "markdown",
   "id": "a28db9bf",
   "metadata": {},
   "source": [
    "The plot shows that children have a higher survival rate. It also shows that, in terms of survival, there is not a significant difference between the categories 'Adult' and 'Elder'. For now, we will not make any change because there is a theoretical rationale behind this categorization. Nonetheless, it seems that it would be enough to just distinguish between children and adults.\n",
    "\n",
    "2.2.5. FamilySize\n",
    "\n",
    "Regarding family size, our hypothesis is that those who travel alone, have a lower survival rate. The idea is that people with family can collaborate and help each other escaping.\n",
    "\n",
    "Let's see if that makes sense using our beautiful and only friend, the bar plot.\n"
   ]
  },
  {
   "cell_type": "code",
   "execution_count": null,
   "id": "fd23ce72",
   "metadata": {},
   "outputs": [],
   "source": [
    "# Plot\n",
    "sns.barplot(df['FamilySize'], df['Survived']);"
   ]
  },
  {
   "cell_type": "markdown",
   "id": "ea65c3b3",
   "metadata": {},
   "source": [
    "As we can see, when 'FamilySize' is between 0 and 3, our hypothesis finds some support. People that are travelling alone have a lower survival rate than people who are travelling with one, two or three people more.\n",
    "\n",
    "However, when FamilySize is between 4 and 10, things start to change. Despite the large variability of the results, the survival rate drops. This may suggest that our hypothesis should be revised when 'FamilySize' is higher than 3.\n",
    "\n",
    "This variable seems to be more complex than expected. Accordingly, we will not make any transformation in this variable and we will leave it as a continuous variable to preserve all the information it has.\n",
    "\n",
    "2.2.6. Fare\n",
    "\n",
    "The same logic applied to 'Pclass' should work for 'Fare': higher fares, higher survival rate.\n",
    "\n",
    "Since now we want to establish comparisons across different levels of a categorical variable, we will use a box plot instead of a bar plot.\n"
   ]
  },
  {
   "cell_type": "code",
   "execution_count": null,
   "id": "9ed74fe0",
   "metadata": {},
   "outputs": [],
   "source": [
    "# Plot\n",
    "plt.figure(figsize=(7.5,5))\n",
    "sns.boxplot(df['Survived'], df['Fare']);"
   ]
  },
  {
   "cell_type": "markdown",
   "id": "ddd8b439",
   "metadata": {},
   "source": [
    "The plot suggests that those who survived paid a higher fare. Since we believe this variable is connected with 'Pclass', let's see how they work together.\n"
   ]
  },
  {
   "cell_type": "code",
   "execution_count": null,
   "id": "5108a946",
   "metadata": {},
   "outputs": [],
   "source": [
    "# Plot\n",
    "sns.barplot(df['Survived'], df['Fare'], df['Pclass']);"
   ]
  },
  {
   "cell_type": "markdown",
   "id": "fc7889eb",
   "metadata": {},
   "source": [
    "Here we have an interesting result. It seems that 'Fare' doesn't make difference, in terms of survival, if you are travelling in second or third class. However, if you are travelling in first class, the higher the fare, the higher the chances of survival. Considering this, it would make sense to create interaction features between 'Fare' and 'Pclass'.\n",
    "\n",
    "\n",
    "2.2.7. Embarked\n",
    "\n",
    "The hypothesis regarding 'Embarked' is that it doesn't influence the chances of survival. It is hard to imagine a scenario in which people from Southampton, for instance, would such a competitive advantage, that it would make them more apt for survival than people from Queensland. Yes, in Darwin we believe.\n",
    "\n",
    "A simple plot can enlighten us.\n"
   ]
  },
  {
   "cell_type": "code",
   "execution_count": null,
   "id": "5f9ccc10",
   "metadata": {},
   "outputs": [],
   "source": [
    "# Plot\n",
    "sns.barplot(df['Embarked'], df['Survived']);"
   ]
  },
  {
   "cell_type": "markdown",
   "id": "4f60d2c8",
   "metadata": {},
   "source": [
    "Ups... It seems that people embarking on C were selected by a superior entity to survive. This is strange and may be hidding some relationship that is not obvious with this plot (e.g. people embarking on C were mostly women).\n",
    "\n",
    "Let's dive deeper.\n"
   ]
  },
  {
   "cell_type": "code",
   "execution_count": null,
   "id": "0f50a037",
   "metadata": {},
   "outputs": [],
   "source": [
    "# Compare with other variables\n",
    "df.groupby(['Embarked']).mean()"
   ]
  },
  {
   "cell_type": "markdown",
   "id": "615fe69e",
   "metadata": {},
   "source": [
    "It seems that people embarking on C were paying more and travelling in a better class than people embarking on Q and S.\n"
   ]
  },
  {
   "cell_type": "code",
   "execution_count": null,
   "id": "799bc3ec",
   "metadata": {},
   "outputs": [],
   "source": [
    "# Relationship with age\n",
    "df.groupby(['Embarked','Age'])['PassengerId'].count()"
   ]
  },
  {
   "cell_type": "markdown",
   "id": "8533092e",
   "metadata": {},
   "source": [
    "No significant differences can be found."
   ]
  },
  {
   "cell_type": "code",
   "execution_count": null,
   "id": "b9bf3407",
   "metadata": {},
   "outputs": [],
   "source": [
    "# Relationship with sex\n",
    "df.groupby(['Embarked','Sex'])['PassengerId'].count()"
   ]
  },
  {
   "cell_type": "markdown",
   "id": "5db2182c",
   "metadata": {},
   "source": [
    "\n",
    "\n",
    "No significant differences can be found.\n",
    "\n",
    "Considering the results above, I feel tempted to say that the embarkment point doesn't influence the survival rate. What really seems to be influencing is the class where people were travelling and how much they were spending.\n",
    "\n",
    "For now, I will not delete the variable because I feel that I'm a little bit biased and trying to force a conclusion. However, let's keep in mind that maybe 'Embarked' doesn't affect 'Survived'.\n",
    "2.3. Feature extraction\n",
    "\n",
    "In the book 'How Google Works', Eric Schmidt and Jonathan Rosenberg refer that Google's secret sauce is 'technical insight'. According to the authors, it is fundamental technical insight that allows companies to create great products, which provide real value to the customers. For example, PageRank gave an incredible competitive advantage to Google in relation to other search engines, by providing a far better way to rank search results on the web.\n",
    "\n",
    "Feature extraction is our technological insight in machine learning. It addresses the problem of attaining the most informative and compact set of features, to improve the performance of machine learning models. Let's go step-by-step. First, we are talking about 'informative'. This means that we are looking for features that can characterize the behaviour of what we are trying to model. For instance, if we want to model the weather, features like temperature, humidity and wind are informative (they are related to the problem). By contrast, the result of a football game will not be an informative feature because it doesn't affect the weather.\n",
    "\n",
    "Regarding 'compact', what we mean is that we want to exclude irrelevant features from our model. There are several reasons to exclude irrelevant features. In our case, I'd say that the most important is to reduce overfitting. Taking the weather example again: we know that football scores do not affect weather, but suppose that all rain instances in our training set happen to occur after a Benfica victory. Then, our model might learn that rain is related to Benfica's victories, which is not true. Such an incorrect generalization from an irrelevant feature of the training set would result in a machine learning model that fits a particular set of data, but fails to predict future observations reliably (overfitting).\n",
    "\n",
    "These two main issues are addressed in the following sub-sections:\n",
    "\n",
    "    Feature engineering, which is related to the generation of informative features;\n",
    "    Feature selection, which regards the choice of a compact set of features.\n",
    "\n",
    "2.3.1. Feature engineering\n",
    "\n",
    "Feature engineering is the art of converting raw data into useful features. There are several feature engineering techniques that you can apply to be an artist. A comprehensive list of them is presented by Heaton (2016). We will use just two techniques:\n",
    "\n",
    "    Box-Cox transformations (Box & Cox 1964);\n",
    "    Polynomials generation through non-linear expansions.\n",
    "\n",
    "Before the application of these techniques, we will just make some adjustments to the data, in order to prepare it for the modelling process.\n",
    "Data preparation"
   ]
  },
  {
   "cell_type": "code",
   "execution_count": null,
   "id": "be4ba404",
   "metadata": {},
   "outputs": [],
   "source": [
    "# Overview\n",
    "df.head()"
   ]
  },
  {
   "cell_type": "code",
   "execution_count": null,
   "id": "084a8404",
   "metadata": {},
   "outputs": [],
   "source": [
    "# Drop feature\n",
    "df.drop('PassengerId', axis=1, inplace=True)"
   ]
  },
  {
   "cell_type": "code",
   "execution_count": null,
   "id": "5712080f",
   "metadata": {},
   "outputs": [],
   "source": [
    "# Check features type\n",
    "df.dtypes"
   ]
  },
  {
   "cell_type": "code",
   "execution_count": null,
   "id": "3342aef9",
   "metadata": {},
   "outputs": [],
   "source": [
    "# Transform object into categorical\n",
    "df['Embarked'] = pd.Categorical(df['Embarked'])\n",
    "df['Pclass'] = pd.Categorical(df['Pclass'])\n",
    "df.dtypes"
   ]
  },
  {
   "cell_type": "code",
   "execution_count": null,
   "id": "e9473f71",
   "metadata": {},
   "outputs": [],
   "source": [
    "# Transform categorical features into dummy variables\n",
    "df = pd.get_dummies(df, drop_first=1)  \n",
    "df.head()"
   ]
  },
  {
   "cell_type": "code",
   "execution_count": null,
   "id": "41813e6f",
   "metadata": {},
   "outputs": [],
   "source": [
    "# Get training and test sets\n",
    "from sklearn.model_selection import train_test_split\n",
    "\n",
    "X = df[df.loc[:, df.columns != 'Survived'].columns]\n",
    "y = df['Survived']\n",
    "X_train, X_test, y_train, y_test = train_test_split(X, y, test_size=.2, random_state=0)"
   ]
  },
  {
   "cell_type": "markdown",
   "id": "c230d02b",
   "metadata": {},
   "source": [
    "\n",
    "Box-Cox transformations\n",
    "\n",
    "Box-Cox transformations aim to normalize variables. These transformations are an alternative to the typical transformations, such as square root transformations, log transformations, and inverse transformations. The main advantage of Box-Cox transformations is that they optimally normalize the chosen variable. Thus, they avoid the need to randomly try different transformations and automatize the data transformation process.\n"
   ]
  },
  {
   "cell_type": "code",
   "execution_count": null,
   "id": "dc47cbe8",
   "metadata": {},
   "outputs": [],
   "source": [
    "# Apply Box-Cox transformation\n",
    "from scipy.stats import boxcox\n",
    "\n",
    "X_train_transformed = X_train.copy()\n",
    "X_train_transformed['Fare'] = boxcox(X_train_transformed['Fare'] + 1)[0]\n",
    "X_test_transformed = X_test.copy()\n",
    "X_test_transformed['Fare'] = boxcox(X_test_transformed['Fare'] + 1)[0]"
   ]
  },
  {
   "cell_type": "markdown",
   "id": "09e22f09",
   "metadata": {},
   "source": [
    "\n",
    "Polynomials\n",
    "\n",
    "One standard way to enrich our set of features is to generate polynomials. Polynomial expansion creates interactions between features, as well as creates powers (e.g. square of a feature). This way we introduce a nonlinear dimension to our data set, which can improve the predictive power of our model.\n",
    "\n",
    "We should scale our features when we have polynomial or interaction terms in our model. These terms tend to produce multicollinearity, which can make our estimates very sensitive to minor changes in the model. Scaling features to a range allow us to reduce multicollinearity and its problems.\n",
    "\n",
    "To scale the features, we will transform the data so that it lies between a given minimum and maximum value. We will follow the common practice and say that our minimum value is zero, and our maximum value is one.\n"
   ]
  },
  {
   "cell_type": "code",
   "execution_count": null,
   "id": "c49a9527",
   "metadata": {},
   "outputs": [],
   "source": [
    "# Rescale data\n",
    "from sklearn.preprocessing import MinMaxScaler\n",
    "\n",
    "scaler = MinMaxScaler()\n",
    "X_train_transformed_scaled = scaler.fit_transform(X_train_transformed)\n",
    "X_test_transformed_scaled = scaler.transform(X_test_transformed)"
   ]
  },
  {
   "cell_type": "code",
   "execution_count": null,
   "id": "280a6216",
   "metadata": {},
   "outputs": [],
   "source": [
    "# Get polynomial features\n",
    "from sklearn.preprocessing import PolynomialFeatures\n",
    "\n",
    "poly = PolynomialFeatures(degree=2).fit(X_train_transformed)\n",
    "X_train_poly = poly.transform(X_train_transformed_scaled)\n",
    "X_test_poly = poly.transform(X_test_transformed_scaled)"
   ]
  },
  {
   "cell_type": "code",
   "execution_count": null,
   "id": "1a1e3454",
   "metadata": {},
   "outputs": [],
   "source": [
    "# Debug\n",
    "print(poly.get_feature_names())"
   ]
  },
  {
   "cell_type": "markdown",
   "id": "6a75c17b",
   "metadata": {},
   "source": [
    "\n",
    "2.3.2. Feature selection\n",
    "\n",
    "The next step is to perform feature selection. Feature selection is about chosing the relevant information. It is good to add and generate features, but at some point we need to exclude irrelevant features. Otherwise, we will be penalizing the predictive power of our model. You can find a concise introduction to the feature selection subject in Guyon & Elisseeff (2003).\n",
    "\n",
    "In this work, we will use a univariate statistics approach. This approach selects features based on univariate statistical tests between each feature and the target variable. The intuition is that features that are independent from the target variable, are irrelevant for classification.\n",
    "\n",
    "We will use the chi-squared test for feature selection. This means that we have to choose the number of features that we want in the model. For example, if we want to have three features in our model, the method will select the three features with highest χ2\n",
    "\n",
    "score.\n",
    "\n",
    "Since we don't know the ideal number of features, we will test the method with all the possible number of features and choose the number of features with better performance.\n",
    "Univariate statistics\n"
   ]
  },
  {
   "cell_type": "code",
   "execution_count": null,
   "id": "d1f75516",
   "metadata": {},
   "outputs": [],
   "source": [
    "# Select features using chi-squared test\n",
    "from sklearn.feature_selection import SelectKBest\n",
    "from sklearn.feature_selection import chi2\n",
    "\n",
    "## Get score using original model\n",
    "logreg = LogisticRegression(C=1)\n",
    "logreg.fit(X_train, y_train)\n",
    "scores = cross_val_score(logreg, X_train, y_train, cv=10)\n",
    "print('CV accuracy (original): %.3f +/- %.3f' % (np.mean(scores), np.std(scores)))\n",
    "highest_score = np.mean(scores)\n",
    "\n",
    "## Get score using models with feature selection\n",
    "for i in range(1, X_train_poly.shape[1]+1, 1):\n",
    "    # Select i features\n",
    "    select = SelectKBest(score_func=chi2, k=i)\n",
    "    select.fit(X_train_poly, y_train)\n",
    "    X_train_poly_selected = select.transform(X_train_poly)\n",
    "\n",
    "    # Model with i features selected\n",
    "    logreg.fit(X_train_poly_selected, y_train)\n",
    "    scores = cross_val_score(logreg, X_train_poly_selected, y_train, cv=10)\n",
    "    print('CV accuracy (number of features = %i): %.3f +/- %.3f' % (i, \n",
    "                                                                     np.mean(scores), \n",
    "                                                                     np.std(scores)))\n",
    "    \n",
    "    # Save results if best score\n",
    "    if np.mean(scores) > highest_score:\n",
    "        highest_score = np.mean(scores)\n",
    "        std = np.std(scores)\n",
    "        k_features_highest_score = i\n",
    "    elif np.mean(scores) == highest_score:\n",
    "        if np.std(scores) < std:\n",
    "            highest_score = np.mean(scores)\n",
    "            std = np.std(scores)\n",
    "            k_features_highest_score = i\n",
    "        \n",
    "# Print the number of features\n",
    "print('Number of features when highest score: %i' % k_features_highest_score)"
   ]
  },
  {
   "cell_type": "markdown",
   "id": "ec39b053",
   "metadata": {},
   "source": [
    "3. Unicorn model\n",
    "\n",
    "Startups use the term 'unicorn' to describe a startup that is valued at one billion dollars or more. Regardless of whether it is a European or American billion, one billion is a big number. Actually, it is so big and rare that when we find startups with such value, we associate them to those mythical creatures that are the unicorns.\n",
    "\n",
    "We've been through a long journey since we started solving this problem. Since our start with a lean model, we've been scaling our startup: we imputed missing data, we performed an exploratory data analysis and we extracted features. We also had to deal with terrible Titanic jokes that take some time to sink in.\n",
    "\n",
    "Now it's time to turn all this work into a highly accurate model, our 'unicorn' model.\n",
    "\n",
    "\n",
    "3.1. Fit model for best feature combination\n"
   ]
  },
  {
   "cell_type": "code",
   "execution_count": null,
   "id": "876a4395",
   "metadata": {},
   "outputs": [],
   "source": [
    "# Select features\n",
    "select = SelectKBest(score_func=chi2, k=k_features_highest_score)\n",
    "select.fit(X_train_poly, y_train)\n",
    "X_train_poly_selected = select.transform(X_train_poly)"
   ]
  },
  {
   "cell_type": "code",
   "execution_count": null,
   "id": "2c133573",
   "metadata": {},
   "outputs": [],
   "source": [
    "# Fit model\n",
    "logreg = LogisticRegression(C=1)\n",
    "logreg.fit(X_train_poly_selected, y_train)"
   ]
  },
  {
   "cell_type": "code",
   "execution_count": null,
   "id": "08768c89",
   "metadata": {},
   "outputs": [],
   "source": [
    "# Model performance\n",
    "scores = cross_val_score(logreg, X_train_poly_selected, y_train, cv=10)\n",
    "print('CV accuracy: %.3f +/- %.3f' % (np.mean(scores), np.std(scores)))"
   ]
  },
  {
   "cell_type": "markdown",
   "id": "23e837ca",
   "metadata": {},
   "source": [
    "3.2. Learning curve"
   ]
  },
  {
   "cell_type": "code",
   "execution_count": null,
   "id": "bd91e8e8",
   "metadata": {},
   "outputs": [],
   "source": [
    "# Plot learning curves\n",
    "title = \"Learning Curves (Logistic Regression)\"\n",
    "cv = 10\n",
    "plot_learning_curve(logreg, title, X_train_poly_selected, \n",
    "                    y_train, ylim=(0.7, 1.01), cv=cv, n_jobs=1);"
   ]
  },
  {
   "cell_type": "markdown",
   "id": "fecd8e69",
   "metadata": {},
   "source": [
    "No signs of overfitting or underfitting.\n",
    "\n",
    "\n",
    "3.3. Validation curve"
   ]
  },
  {
   "cell_type": "code",
   "execution_count": null,
   "id": "8214a9eb",
   "metadata": {},
   "outputs": [],
   "source": [
    "# Plot validation curve\n",
    "title = 'Validation Curve (Logistic Regression)'\n",
    "param_name = 'C'\n",
    "param_range = [0.001, 0.01, 0.1, 1.0, 10.0, 100.0] \n",
    "cv = 10\n",
    "plot_validation_curve(estimator=logreg, title=title, X=X_train_poly_selected, y=y_train, \n",
    "                      param_name=param_name, ylim=(0.5, 1.01), param_range=param_range);"
   ]
  },
  {
   "cell_type": "markdown",
   "id": "67e2bee6",
   "metadata": {},
   "source": [
    "We used C=1, which is on the edge of overfitting. Regarding underfitting, there are no signs of it since the model performs well.\n",
    "\n",
    "\n",
    "3.4. Submit predictions"
   ]
  },
  {
   "cell_type": "code",
   "execution_count": null,
   "id": "c2ffd94c",
   "metadata": {},
   "outputs": [],
   "source": [
    "# Get test data set\n",
    "df = pd.read_csv('../input/test.csv')\n",
    "df_raw = df.copy()"
   ]
  },
  {
   "cell_type": "code",
   "execution_count": null,
   "id": "ad880886",
   "metadata": {},
   "outputs": [],
   "source": [
    "# Transform data set (based on Chapter 2)\n",
    "\n",
    "## 2.2\n",
    "df['FamilySize'] = df['SibSp'] + df['Parch']\n",
    "df.drop('SibSp',axis=1,inplace=True)\n",
    "df.drop('Parch',axis=1,inplace=True)\n",
    "df.drop(['Name','Ticket','Cabin'], axis=1, inplace=True)\n",
    "\n",
    "df['Title']=0\n",
    "for i in df:\n",
    "    df['Title']=df_raw['Name'].str.extract('([A-Za-z]+)\\.', expand=False)  \n",
    "df_raw['Title'] = df['Title']  \n",
    "means = df_raw.groupby('Title')['Age'].mean()\n",
    "map_means = means.to_dict()\n",
    "idx_nan_age = df.loc[np.isnan(df['Age'])].index\n",
    "df.loc[idx_nan_age, 'Age'] = df['Title'].loc[idx_nan_age].map(map_means)\n",
    "df['Title'] = df['Title'].map(titles_dict)\n",
    "df['Title'] = pd.Categorical(df['Title'])\n",
    "\n",
    "df['Imputed'] = 0\n",
    "df.at[idx_nan_age.values, 'Imputed'] = 1\n",
    "\n",
    "df['Age'] = pd.cut(df['Age'], bins=[0, 12, 50, 200], labels=['Child','Adult','Elder'])\n",
    "\n",
    "## 2.3\n",
    "passenger_id = df['PassengerId'].values\n",
    "df.drop('PassengerId', axis=1, inplace=True)\n",
    "df['Embarked'] = pd.Categorical(df['Embarked'])\n",
    "df['Pclass'] = pd.Categorical(df['Pclass'])\n",
    "df = pd.get_dummies(df, drop_first=1)\n",
    "\n",
    "df = df.fillna(df.mean())  # There is one missing value in 'Fare'\n",
    "\n",
    "X = df[df.loc[:, df.columns != 'Survived'].columns]\n",
    "\n",
    "X_transformed = X.copy()\n",
    "X_transformed['Fare'] = boxcox(X_transformed['Fare'] + 1)[0]\n",
    "\n",
    "scaler = MinMaxScaler()\n",
    "X_transformed_scaled = scaler.fit_transform(X_transformed)\n",
    "\n",
    "poly = PolynomialFeatures(degree=2).fit(X_transformed)\n",
    "X_poly = poly.transform(X_transformed_scaled)\n",
    "\n",
    "X_poly_selected = select.transform(X_poly)"
   ]
  },
  {
   "cell_type": "code",
   "execution_count": null,
   "id": "2d9de34a",
   "metadata": {},
   "outputs": [],
   "source": [
    "# Make predictions\n",
    "predictions = logreg.predict(X_poly_selected)"
   ]
  },
  {
   "cell_type": "code",
   "execution_count": null,
   "id": "3f5a76c8",
   "metadata": {},
   "outputs": [],
   "source": [
    "# Generate submission file\n",
    "submission = pd.DataFrame({ 'PassengerId': passenger_id,\n",
    "                            'Survived': predictions})\n",
    "submission.to_csv(\"submission.csv\", index=False)"
   ]
  },
  {
   "cell_type": "markdown",
   "id": "1b79a7d6",
   "metadata": {},
   "source": [
    "4. Conclusion\n",
    "\n",
    "\n",
    "\n",
    "As Halevy et al. (2009) noted 'invariably, simple models and a lot of data trump more elaborate models based on less data.' Monica Rogati added that 'better data beats more data'. Based on these principles, the aim of this study was to improve data quality through exploratory data analysis and feature extraction. We didn't use a clever algorithm, but we explored clever techniques to make our data better.\n",
    "\n",
    "My expectation is that after reading this kernel, you can start compiling a cookbook of techniques in exploratory data analysis and feature extraction. These techniques will help you to obtain confidence in your data and engage with any data science problem. Also, the more you use and refine these techniques, the more you'll develop your problem solving intuition.\n",
    "\n",
    "Now, it's your turn. Make this work yours. Select a part of this kernel and play with it. Why not trying a different feature selection process? Or what about applying a different imputation method? There are a hundred different ways to steal this work like an artist. Do it... After all, all unicorns started with a MVP.\n"
   ]
  },
  {
   "cell_type": "code",
   "execution_count": null,
   "id": "eb5cd4eb",
   "metadata": {},
   "outputs": [],
   "source": []
  }
 ],
 "metadata": {
  "kernelspec": {
   "display_name": "Python 3",
   "language": "python",
   "name": "python3"
  },
  "language_info": {
   "codemirror_mode": {
    "name": "ipython",
    "version": 3
   },
   "file_extension": ".py",
   "mimetype": "text/x-python",
   "name": "python",
   "nbconvert_exporter": "python",
   "pygments_lexer": "ipython3",
   "version": "3.8.8"
  }
 },
 "nbformat": 4,
 "nbformat_minor": 5
}
